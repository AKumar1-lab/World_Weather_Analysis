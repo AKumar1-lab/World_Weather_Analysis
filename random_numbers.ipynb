{
 "cells": [
  {
   "cell_type": "code",
   "execution_count": 1,
   "id": "4d20a2b2",
   "metadata": {},
   "outputs": [],
   "source": [
    "# Import the random module.\n",
    "import random"
   ]
  },
  {
   "cell_type": "code",
   "execution_count": 2,
   "id": "1a327a7d",
   "metadata": {},
   "outputs": [
    {
     "data": {
      "text/plain": [
       "-52"
      ]
     },
     "execution_count": 2,
     "metadata": {},
     "output_type": "execute_result"
    }
   ],
   "source": [
    "random.randint(-90,90)"
   ]
  },
  {
   "cell_type": "code",
   "execution_count": 3,
   "id": "3369d830",
   "metadata": {},
   "outputs": [
    {
     "data": {
      "text/plain": [
       "0.6611563704060156"
      ]
     },
     "execution_count": 3,
     "metadata": {},
     "output_type": "execute_result"
    }
   ],
   "source": [
    "random.random()"
   ]
  },
  {
   "cell_type": "code",
   "execution_count": 4,
   "id": "f7906846",
   "metadata": {},
   "outputs": [
    {
     "data": {
      "text/plain": [
       "-44.75541114676243"
      ]
     },
     "execution_count": 4,
     "metadata": {},
     "output_type": "execute_result"
    }
   ],
   "source": [
    "random_number = random.randint(-90,89) + random.random()\n",
    "random_number"
   ]
  },
  {
   "cell_type": "code",
   "execution_count": 5,
   "id": "cd27f009",
   "metadata": {},
   "outputs": [],
   "source": [
    "x = 1\n",
    "latitudes = []\n",
    "while x < 11:\n",
    "    random_lat = random.randint(-90, 89) + random.random()\n",
    "    latitudes.append(random_lat)\n",
    "    x += 1"
   ]
  },
  {
   "cell_type": "code",
   "execution_count": 6,
   "id": "c8c8fc7c",
   "metadata": {},
   "outputs": [
    {
     "data": {
      "text/plain": [
       "[27.180328552028122,\n",
       " 47.961215142113836,\n",
       " -38.88982045373215,\n",
       " 5.193222064115616,\n",
       " 78.18930729628208,\n",
       " 31.614670277247615,\n",
       " -8.327114311688698,\n",
       " -16.5929504545792,\n",
       " -8.044245088348962,\n",
       " -10.513045267138471]"
      ]
     },
     "execution_count": 6,
     "metadata": {},
     "output_type": "execute_result"
    }
   ],
   "source": [
    "latitudes"
   ]
  },
  {
   "cell_type": "code",
   "execution_count": 7,
   "id": "fffe8ec2",
   "metadata": {},
   "outputs": [
    {
     "data": {
      "text/plain": [
       "77"
      ]
     },
     "execution_count": 7,
     "metadata": {},
     "output_type": "execute_result"
    }
   ],
   "source": [
    "random.randrange(-90, 90,step=1)"
   ]
  },
  {
   "cell_type": "code",
   "execution_count": 8,
   "id": "e08aacc0",
   "metadata": {},
   "outputs": [
    {
     "data": {
      "text/plain": [
       "66"
      ]
     },
     "execution_count": 8,
     "metadata": {},
     "output_type": "execute_result"
    }
   ],
   "source": [
    "random.randrange(-90, 90,step=3)"
   ]
  },
  {
   "cell_type": "code",
   "execution_count": 9,
   "id": "71d7cfaf",
   "metadata": {},
   "outputs": [
    {
     "data": {
      "text/plain": [
       "51.204748529127244"
      ]
     },
     "execution_count": 9,
     "metadata": {},
     "output_type": "execute_result"
    }
   ],
   "source": [
    "random.uniform(-90,90)"
   ]
  },
  {
   "cell_type": "code",
   "execution_count": 10,
   "id": "94ef6a34",
   "metadata": {},
   "outputs": [],
   "source": [
    "# Import the NumPy module.\n",
    "import numpy as np"
   ]
  },
  {
   "cell_type": "code",
   "execution_count": 11,
   "id": "355250e0",
   "metadata": {},
   "outputs": [
    {
     "data": {
      "text/plain": [
       "-72.08872091906773"
      ]
     },
     "execution_count": 11,
     "metadata": {},
     "output_type": "execute_result"
    }
   ],
   "source": [
    "np.random.uniform(-90.000,90.000)"
   ]
  },
  {
   "cell_type": "code",
   "execution_count": 12,
   "id": "f1033630",
   "metadata": {},
   "outputs": [
    {
     "data": {
      "text/plain": [
       "array([-6.95456494e+01,  5.90131894e+01, -2.54636436e+01, -1.59187959e+01,\n",
       "        7.99692849e+01,  4.04988387e+01,  4.32640534e+01,  2.06942281e+01,\n",
       "        8.41736013e+01,  7.97419702e+01, -2.36695697e+01, -3.69999841e+01,\n",
       "       -2.08856950e+01,  6.81210988e+01,  8.95072333e+01, -6.24597732e+00,\n",
       "       -1.13966117e+01, -5.59930302e+01,  8.36041195e+01, -4.81469138e+01,\n",
       "        1.98589722e+01,  6.08651005e+01, -3.17378162e+01,  7.34160860e+01,\n",
       "        4.15020970e+01, -2.49393661e+01,  5.62305008e+01,  8.80235126e+01,\n",
       "       -8.61488765e+01, -3.00476641e+01,  4.29647447e-02,  2.18029641e+01,\n",
       "       -1.99337967e+01, -3.17679509e+01,  7.36498174e+01,  6.56855832e+01,\n",
       "       -2.03464571e+01,  6.21016333e+01, -6.85309225e+01, -7.40984154e+01,\n",
       "        3.66809144e+01, -2.33339413e+01,  4.61265645e+01, -6.05086227e+01,\n",
       "        2.13519051e+01,  7.24530900e+01,  7.34141458e+00,  4.67611995e+01,\n",
       "        4.79821015e+01, -2.95442225e+01])"
      ]
     },
     "execution_count": 12,
     "metadata": {},
     "output_type": "execute_result"
    }
   ],
   "source": [
    "np.random.uniform(-90.000,90.000, size=50)"
   ]
  },
  {
   "cell_type": "code",
   "execution_count": 13,
   "id": "b458db60",
   "metadata": {},
   "outputs": [],
   "source": [
    "# Import timeit.\n",
    "import timeit"
   ]
  },
  {
   "cell_type": "code",
   "execution_count": 14,
   "id": "2d5c3ab1",
   "metadata": {},
   "outputs": [
    {
     "name": "stdout",
     "output_type": "stream",
     "text": [
      "20.6 µs ± 1.79 µs per loop (mean ± std. dev. of 7 runs, 10000 loops each)\n"
     ]
    }
   ],
   "source": [
    "%timeit np.random.uniform(-90.000, 90.000, size=1500)"
   ]
  },
  {
   "cell_type": "code",
   "execution_count": 15,
   "id": "6c4fa32a",
   "metadata": {},
   "outputs": [
    {
     "name": "stdout",
     "output_type": "stream",
     "text": [
      "2.86 ms ± 306 µs per loop (mean ± std. dev. of 7 runs, 100 loops each)\n"
     ]
    }
   ],
   "source": [
    "def latitudes(size):\n",
    "    latitudes = []\n",
    "    x = 0\n",
    "    while x < (size):\n",
    "        random_lat = random.randint(-90, 90) + random.random()\n",
    "        latitudes.append(random_lat)\n",
    "        x += 1\n",
    "    return latitudes\n",
    "# Call the function with 1500.\n",
    "%timeit latitudes(1500)"
   ]
  },
  {
   "cell_type": "code",
   "execution_count": null,
   "id": "037461c5",
   "metadata": {},
   "outputs": [],
   "source": []
  }
 ],
 "metadata": {
  "kernelspec": {
   "display_name": "PythonData",
   "language": "python",
   "name": "pythondata"
  },
  "language_info": {
   "codemirror_mode": {
    "name": "ipython",
    "version": 3
   },
   "file_extension": ".py",
   "mimetype": "text/x-python",
   "name": "python",
   "nbconvert_exporter": "python",
   "pygments_lexer": "ipython3",
   "version": "3.8.8"
  }
 },
 "nbformat": 4,
 "nbformat_minor": 5
}
